{
 "cells": [
  {
   "cell_type": "markdown",
   "metadata": {},
   "source": [
    "In this assignment, you will become familiar with the deep learning library Pytorch through the construction of a feed-forward neural network and a convolutional neural network applied to the MNIST dataset.  In various parts of the notebook, there will be places to fill in."
   ]
  },
  {
   "cell_type": "code",
   "execution_count": 1,
   "metadata": {},
   "outputs": [],
   "source": [
    "import numpy as np # to handle matrix and data operation\n",
    "import pandas as pd # to read csv and handle dataframe\n",
    "\n",
    "import torch\n",
    "import torch.nn as nn\n",
    "import torch.nn.functional as F\n",
    "import torch.utils.data\n",
    "from torch.autograd import Variable\n",
    "import torch.optim as optim\n",
    "\n",
    "import matplotlib.pyplot as plt\n",
    "\n",
    "from sklearn.model_selection import train_test_split\n",
    "\n",
    "# CUDA?\n",
    "cuda = torch.cuda.is_available()\n",
    "\n",
    "# For reproducibility\n",
    "SEED = 1\n",
    "torch.manual_seed(SEED)\n",
    "\n",
    "if cuda:\n",
    "    torch.cuda.manual_seed(SEED)"
   ]
  },
  {
   "cell_type": "markdown",
   "metadata": {},
   "source": [
    "Download and use the MNIST dataset from Homework 1."
   ]
  },
  {
   "cell_type": "code",
   "execution_count": 2,
   "metadata": {},
   "outputs": [
    {
     "name": "stdout",
     "output_type": "stream",
     "text": [
      "(42000, 785)\n"
     ]
    }
   ],
   "source": [
    "dataset_filename = \"../data/data_mnist.csv\"\n",
    "df = pd.read_csv(dataset_filename)\n",
    "print(df.shape)"
   ]
  },
  {
   "cell_type": "code",
   "execution_count": 3,
   "metadata": {},
   "outputs": [],
   "source": [
    "y = df['label']\n",
    "X = df.iloc[:, 1:]\n",
    "\n",
    "\n",
    "X_train, X_test, y_train, y_test = train_test_split(X, y, test_size=0.15)"
   ]
  },
  {
   "cell_type": "code",
   "execution_count": 4,
   "metadata": {},
   "outputs": [
    {
     "name": "stdout",
     "output_type": "stream",
     "text": [
      "(6300, 784)\n"
     ]
    }
   ],
   "source": [
    "print(X_test.shape)"
   ]
  },
  {
   "cell_type": "code",
   "execution_count": 5,
   "metadata": {},
   "outputs": [],
   "source": [
    "BATCH_SIZE = 32\n",
    "\n",
    "torch_X_train = torch.from_numpy(X_train.to_numpy()).type(torch.LongTensor)\n",
    "torch_y_train = torch.from_numpy(y_train.to_numpy()).type(torch.LongTensor) # data type is long\n",
    "\n",
    "# create feature and targets tensor for test set.\n",
    "torch_X_test = torch.from_numpy(X_test.to_numpy()).type(torch.LongTensor)\n",
    "torch_y_test = torch.from_numpy(y_test.to_numpy()).type(torch.LongTensor) # data type is long\n",
    "\n",
    "# Pytorch train and test sets\n",
    "train = torch.utils.data.TensorDataset(torch_X_train,torch_y_train)\n",
    "test = torch.utils.data.TensorDataset(torch_X_test,torch_y_test)\n",
    "\n",
    "# data loader\n",
    "train_loader = torch.utils.data.DataLoader(train, batch_size = BATCH_SIZE, shuffle = False)\n",
    "test_loader = torch.utils.data.DataLoader(test, batch_size = BATCH_SIZE, shuffle = False)"
   ]
  },
  {
   "cell_type": "code",
   "execution_count": 6,
   "metadata": {},
   "outputs": [
    {
     "name": "stdout",
     "output_type": "stream",
     "text": [
      "MLP(\n",
      "  (linear1): Linear(in_features=784, out_features=250, bias=True)\n",
      "  (linear2): Linear(in_features=250, out_features=100, bias=True)\n",
      "  (linear3): Linear(in_features=100, out_features=10, bias=True)\n",
      ")\n"
     ]
    }
   ],
   "source": [
    "input_dim = 784\n",
    "output_dim = 10\n",
    "class MLP(nn.Module):\n",
    "    def __init__(self):\n",
    "        super(MLP, self).__init__()\n",
    "        self.linear1 = nn.Linear(input_dim,250)\n",
    "        self.linear2 = nn.Linear(250,100)\n",
    "        self.linear3 = nn.Linear(100,output_dim)\n",
    "    \n",
    "    def forward(self,X):\n",
    "        X = F.relu(self.linear1(X))\n",
    "        X = F.relu(self.linear2(X))\n",
    "        X = self.linear3(X)\n",
    "        return F.log_softmax(X, dim=1)\n",
    " \n",
    "mlp = MLP()\n",
    "print(mlp)"
   ]
  },
  {
   "cell_type": "code",
   "execution_count": 7,
   "metadata": {},
   "outputs": [],
   "source": [
    "def fit(model, train_loader):\n",
    "    optimizer = torch.optim.Adam(model.parameters())\n",
    "    error = nn.CrossEntropyLoss()\n",
    "    EPOCHS = 5\n",
    "    model.train()\n",
    "    for epoch in range(EPOCHS):\n",
    "        correct = 0\n",
    "        for batch_idx, (X_batch, y_batch) in enumerate(train_loader):\n",
    "            var_X_batch = Variable(X_batch).float()\n",
    "            var_y_batch = Variable(y_batch)\n",
    "            optimizer.zero_grad()\n",
    "            output = model(var_X_batch)\n",
    "            loss = error(output, var_y_batch)\n",
    "            loss.backward()\n",
    "            optimizer.step()\n",
    "\n",
    "            # Total correct predictions\n",
    "            predicted = torch.max(output.data, 1)[1] \n",
    "            correct += (predicted == var_y_batch).sum()\n",
    "            #print(correct)\n",
    "            if batch_idx % 50 == 0:\n",
    "                print('Epoch : {} [{}/{} ({:.0f}%)]\\tLoss: {:.6f}\\t Accuracy:{:.3f}%'.format(\n",
    "                    epoch, batch_idx*len(X_batch), len(train_loader.dataset), 100.*batch_idx / len(train_loader), loss.data, float(correct*100) / float(BATCH_SIZE*(batch_idx+1))))"
   ]
  },
  {
   "cell_type": "code",
   "execution_count": 8,
   "metadata": {},
   "outputs": [
    {
     "name": "stdout",
     "output_type": "stream",
     "text": [
      "Epoch : 0 [0/35700 (0%)]\tLoss: 10.186082\t Accuracy:12.500%\n",
      "Epoch : 0 [1600/35700 (4%)]\tLoss: 0.928190\t Accuracy:66.973%\n",
      "Epoch : 0 [3200/35700 (9%)]\tLoss: 0.358659\t Accuracy:75.557%\n",
      "Epoch : 0 [4800/35700 (13%)]\tLoss: 0.110665\t Accuracy:79.843%\n",
      "Epoch : 0 [6400/35700 (18%)]\tLoss: 0.197364\t Accuracy:81.530%\n",
      "Epoch : 0 [8000/35700 (22%)]\tLoss: 0.223105\t Accuracy:82.806%\n",
      "Epoch : 0 [9600/35700 (27%)]\tLoss: 0.378072\t Accuracy:83.877%\n",
      "Epoch : 0 [11200/35700 (31%)]\tLoss: 0.180994\t Accuracy:85.034%\n",
      "Epoch : 0 [12800/35700 (36%)]\tLoss: 0.304408\t Accuracy:85.778%\n",
      "Epoch : 0 [14400/35700 (40%)]\tLoss: 0.412787\t Accuracy:86.357%\n",
      "Epoch : 0 [16000/35700 (45%)]\tLoss: 0.841169\t Accuracy:86.864%\n",
      "Epoch : 0 [17600/35700 (49%)]\tLoss: 0.244143\t Accuracy:87.324%\n",
      "Epoch : 0 [19200/35700 (54%)]\tLoss: 0.421079\t Accuracy:87.812%\n",
      "Epoch : 0 [20800/35700 (58%)]\tLoss: 0.466049\t Accuracy:88.095%\n",
      "Epoch : 0 [22400/35700 (63%)]\tLoss: 0.373500\t Accuracy:88.463%\n",
      "Epoch : 0 [24000/35700 (67%)]\tLoss: 0.134380\t Accuracy:88.744%\n",
      "Epoch : 0 [25600/35700 (72%)]\tLoss: 0.440837\t Accuracy:89.037%\n",
      "Epoch : 0 [27200/35700 (76%)]\tLoss: 0.090652\t Accuracy:89.259%\n",
      "Epoch : 0 [28800/35700 (81%)]\tLoss: 0.527523\t Accuracy:89.550%\n",
      "Epoch : 0 [30400/35700 (85%)]\tLoss: 0.200997\t Accuracy:89.784%\n",
      "Epoch : 0 [32000/35700 (90%)]\tLoss: 0.244849\t Accuracy:89.951%\n",
      "Epoch : 0 [33600/35700 (94%)]\tLoss: 0.612477\t Accuracy:90.093%\n",
      "Epoch : 0 [35200/35700 (99%)]\tLoss: 0.190433\t Accuracy:90.174%\n",
      "Epoch : 1 [0/35700 (0%)]\tLoss: 0.404020\t Accuracy:87.500%\n",
      "Epoch : 1 [1600/35700 (4%)]\tLoss: 0.265458\t Accuracy:95.282%\n",
      "Epoch : 1 [3200/35700 (9%)]\tLoss: 0.050587\t Accuracy:94.802%\n",
      "Epoch : 1 [4800/35700 (13%)]\tLoss: 0.043668\t Accuracy:95.012%\n",
      "Epoch : 1 [6400/35700 (18%)]\tLoss: 0.139405\t Accuracy:95.072%\n",
      "Epoch : 1 [8000/35700 (22%)]\tLoss: 0.145962\t Accuracy:94.933%\n",
      "Epoch : 1 [9600/35700 (27%)]\tLoss: 0.179722\t Accuracy:94.934%\n",
      "Epoch : 1 [11200/35700 (31%)]\tLoss: 0.025613\t Accuracy:94.961%\n",
      "Epoch : 1 [12800/35700 (36%)]\tLoss: 0.117968\t Accuracy:94.872%\n",
      "Epoch : 1 [14400/35700 (40%)]\tLoss: 0.375046\t Accuracy:94.824%\n",
      "Epoch : 1 [16000/35700 (45%)]\tLoss: 0.783804\t Accuracy:94.885%\n",
      "Epoch : 1 [17600/35700 (49%)]\tLoss: 0.167772\t Accuracy:94.924%\n",
      "Epoch : 1 [19200/35700 (54%)]\tLoss: 0.354394\t Accuracy:94.951%\n",
      "Epoch : 1 [20800/35700 (58%)]\tLoss: 0.338319\t Accuracy:94.960%\n",
      "Epoch : 1 [22400/35700 (63%)]\tLoss: 0.275251\t Accuracy:94.989%\n",
      "Epoch : 1 [24000/35700 (67%)]\tLoss: 0.015830\t Accuracy:94.998%\n",
      "Epoch : 1 [25600/35700 (72%)]\tLoss: 0.229876\t Accuracy:95.053%\n",
      "Epoch : 1 [27200/35700 (76%)]\tLoss: 0.133065\t Accuracy:95.109%\n",
      "Epoch : 1 [28800/35700 (81%)]\tLoss: 0.116475\t Accuracy:95.155%\n",
      "Epoch : 1 [30400/35700 (85%)]\tLoss: 0.092474\t Accuracy:95.206%\n",
      "Epoch : 1 [32000/35700 (90%)]\tLoss: 0.071084\t Accuracy:95.227%\n",
      "Epoch : 1 [33600/35700 (94%)]\tLoss: 0.369524\t Accuracy:95.240%\n",
      "Epoch : 1 [35200/35700 (99%)]\tLoss: 0.210825\t Accuracy:95.178%\n",
      "Epoch : 2 [0/35700 (0%)]\tLoss: 0.570608\t Accuracy:84.375%\n",
      "Epoch : 2 [1600/35700 (4%)]\tLoss: 0.230380\t Accuracy:95.588%\n",
      "Epoch : 2 [3200/35700 (9%)]\tLoss: 0.004187\t Accuracy:95.978%\n",
      "Epoch : 2 [4800/35700 (13%)]\tLoss: 0.125263\t Accuracy:95.985%\n",
      "Epoch : 2 [6400/35700 (18%)]\tLoss: 0.091049\t Accuracy:95.600%\n",
      "Epoch : 2 [8000/35700 (22%)]\tLoss: 0.113784\t Accuracy:95.605%\n",
      "Epoch : 2 [9600/35700 (27%)]\tLoss: 0.184086\t Accuracy:95.515%\n",
      "Epoch : 2 [11200/35700 (31%)]\tLoss: 0.087658\t Accuracy:95.611%\n",
      "Epoch : 2 [12800/35700 (36%)]\tLoss: 0.122576\t Accuracy:95.519%\n",
      "Epoch : 2 [14400/35700 (40%)]\tLoss: 0.252281\t Accuracy:95.607%\n",
      "Epoch : 2 [16000/35700 (45%)]\tLoss: 0.667022\t Accuracy:95.659%\n",
      "Epoch : 2 [17600/35700 (49%)]\tLoss: 0.009212\t Accuracy:95.639%\n",
      "Epoch : 2 [19200/35700 (54%)]\tLoss: 0.292735\t Accuracy:95.705%\n",
      "Epoch : 2 [20800/35700 (58%)]\tLoss: 0.220201\t Accuracy:95.761%\n",
      "Epoch : 2 [22400/35700 (63%)]\tLoss: 0.283378\t Accuracy:95.854%\n",
      "Epoch : 2 [24000/35700 (67%)]\tLoss: 0.008537\t Accuracy:95.856%\n",
      "Epoch : 2 [25600/35700 (72%)]\tLoss: 0.362905\t Accuracy:95.919%\n",
      "Epoch : 2 [27200/35700 (76%)]\tLoss: 0.218833\t Accuracy:95.898%\n",
      "Epoch : 2 [28800/35700 (81%)]\tLoss: 0.041992\t Accuracy:95.928%\n",
      "Epoch : 2 [30400/35700 (85%)]\tLoss: 0.019417\t Accuracy:96.014%\n",
      "Epoch : 2 [32000/35700 (90%)]\tLoss: 0.206793\t Accuracy:95.998%\n",
      "Epoch : 2 [33600/35700 (94%)]\tLoss: 0.311378\t Accuracy:95.980%\n",
      "Epoch : 2 [35200/35700 (99%)]\tLoss: 0.063161\t Accuracy:95.958%\n",
      "Epoch : 3 [0/35700 (0%)]\tLoss: 0.478132\t Accuracy:93.750%\n",
      "Epoch : 3 [1600/35700 (4%)]\tLoss: 0.356489\t Accuracy:95.895%\n",
      "Epoch : 3 [3200/35700 (9%)]\tLoss: 0.004324\t Accuracy:96.009%\n",
      "Epoch : 3 [4800/35700 (13%)]\tLoss: 0.141240\t Accuracy:96.089%\n",
      "Epoch : 3 [6400/35700 (18%)]\tLoss: 0.047893\t Accuracy:96.346%\n",
      "Epoch : 3 [8000/35700 (22%)]\tLoss: 0.035357\t Accuracy:96.439%\n",
      "Epoch : 3 [9600/35700 (27%)]\tLoss: 0.072303\t Accuracy:96.262%\n",
      "Epoch : 3 [11200/35700 (31%)]\tLoss: 0.069658\t Accuracy:96.225%\n",
      "Epoch : 3 [12800/35700 (36%)]\tLoss: 0.028622\t Accuracy:96.174%\n",
      "Epoch : 3 [14400/35700 (40%)]\tLoss: 0.191524\t Accuracy:96.099%\n",
      "Epoch : 3 [16000/35700 (45%)]\tLoss: 0.593612\t Accuracy:96.214%\n",
      "Epoch : 3 [17600/35700 (49%)]\tLoss: 0.024861\t Accuracy:96.279%\n",
      "Epoch : 3 [19200/35700 (54%)]\tLoss: 0.311623\t Accuracy:96.345%\n",
      "Epoch : 3 [20800/35700 (58%)]\tLoss: 0.370206\t Accuracy:96.400%\n",
      "Epoch : 3 [22400/35700 (63%)]\tLoss: 0.179781\t Accuracy:96.451%\n",
      "Epoch : 3 [24000/35700 (67%)]\tLoss: 0.067655\t Accuracy:96.434%\n",
      "Epoch : 3 [25600/35700 (72%)]\tLoss: 0.136504\t Accuracy:96.430%\n",
      "Epoch : 3 [27200/35700 (76%)]\tLoss: 0.066755\t Accuracy:96.486%\n",
      "Epoch : 3 [28800/35700 (81%)]\tLoss: 0.029876\t Accuracy:96.532%\n",
      "Epoch : 3 [30400/35700 (85%)]\tLoss: 0.032496\t Accuracy:96.583%\n",
      "Epoch : 3 [32000/35700 (90%)]\tLoss: 0.111452\t Accuracy:96.541%\n",
      "Epoch : 3 [33600/35700 (94%)]\tLoss: 1.036899\t Accuracy:96.518%\n",
      "Epoch : 3 [35200/35700 (99%)]\tLoss: 0.131577\t Accuracy:96.478%\n",
      "Epoch : 4 [0/35700 (0%)]\tLoss: 0.222905\t Accuracy:90.625%\n",
      "Epoch : 4 [1600/35700 (4%)]\tLoss: 0.359894\t Accuracy:95.466%\n",
      "Epoch : 4 [3200/35700 (9%)]\tLoss: 0.002513\t Accuracy:95.730%\n",
      "Epoch : 4 [4800/35700 (13%)]\tLoss: 0.061011\t Accuracy:96.047%\n",
      "Epoch : 4 [6400/35700 (18%)]\tLoss: 0.020589\t Accuracy:96.020%\n",
      "Epoch : 4 [8000/35700 (22%)]\tLoss: 0.121688\t Accuracy:96.190%\n",
      "Epoch : 4 [9600/35700 (27%)]\tLoss: 0.052294\t Accuracy:96.221%\n",
      "Epoch : 4 [11200/35700 (31%)]\tLoss: 0.113320\t Accuracy:96.278%\n",
      "Epoch : 4 [12800/35700 (36%)]\tLoss: 0.026751\t Accuracy:96.181%\n",
      "Epoch : 4 [14400/35700 (40%)]\tLoss: 0.086304\t Accuracy:96.210%\n",
      "Epoch : 4 [16000/35700 (45%)]\tLoss: 0.272628\t Accuracy:96.339%\n",
      "Epoch : 4 [17600/35700 (49%)]\tLoss: 0.142953\t Accuracy:96.410%\n",
      "Epoch : 4 [19200/35700 (54%)]\tLoss: 0.340728\t Accuracy:96.475%\n",
      "Epoch : 4 [20800/35700 (58%)]\tLoss: 0.216199\t Accuracy:96.496%\n",
      "Epoch : 4 [22400/35700 (63%)]\tLoss: 0.401559\t Accuracy:96.518%\n",
      "Epoch : 4 [24000/35700 (67%)]\tLoss: 0.014357\t Accuracy:96.559%\n",
      "Epoch : 4 [25600/35700 (72%)]\tLoss: 0.172594\t Accuracy:96.598%\n",
      "Epoch : 4 [27200/35700 (76%)]\tLoss: 0.085402\t Accuracy:96.644%\n",
      "Epoch : 4 [28800/35700 (81%)]\tLoss: 0.021509\t Accuracy:96.660%\n",
      "Epoch : 4 [30400/35700 (85%)]\tLoss: 0.095019\t Accuracy:96.724%\n",
      "Epoch : 4 [32000/35700 (90%)]\tLoss: 0.039489\t Accuracy:96.735%\n",
      "Epoch : 4 [33600/35700 (94%)]\tLoss: 0.140762\t Accuracy:96.756%\n",
      "Epoch : 4 [35200/35700 (99%)]\tLoss: 0.071959\t Accuracy:96.750%\n"
     ]
    }
   ],
   "source": [
    "fit(mlp, train_loader)"
   ]
  },
  {
   "cell_type": "code",
   "execution_count": 9,
   "metadata": {},
   "outputs": [
    {
     "name": "stdout",
     "output_type": "stream",
     "text": [
      "9\n",
      "tensor(9)\n"
     ]
    },
    {
     "data": {
      "image/png": "[encoded data removed]",
      "text/plain": [
       "<Figure size 640x480 with 1 Axes>"
      ]
     },
     "metadata": {},
     "output_type": "display_data"
    }
   ],
   "source": [
    "mlp.eval()              # turn the model to evaluate mode\n",
    "index = 200\n",
    "torch_X_test = torch.from_numpy(X_test.to_numpy()).type(torch.LongTensor)\n",
    "image = torch_X_test[index].float().unsqueeze(0)\n",
    "true_label = y_test.to_numpy()[index]\n",
    "with torch.no_grad():     # does not calculate gradient\n",
    "    class_index = mlp(image).argmax()   #gets the prediction for the image's class\n",
    "plt.imshow(image.numpy().reshape(28,28,1), cmap='gray_r');\n",
    "print(true_label)\n",
    "print(class_index)"
   ]
  },
  {
   "cell_type": "code",
   "execution_count": 10,
   "metadata": {},
   "outputs": [
    {
     "name": "stdout",
     "output_type": "stream",
     "text": [
      "torch.Size([35700, 1, 28, 28])\n",
      "torch.Size([6300, 1, 28, 28])\n"
     ]
    }
   ],
   "source": [
    "torch_X_train = torch_X_train.view(-1, 1,28,28).float()\n",
    "torch_X_test = torch_X_test.view(-1,1,28,28).float()\n",
    "print(torch_X_train.shape)\n",
    "print(torch_X_test.shape)\n",
    "\n",
    "# Pytorch train and test sets\n",
    "train = torch.utils.data.TensorDataset(torch_X_train,torch_y_train)\n",
    "test = torch.utils.data.TensorDataset(torch_X_test,torch_y_test)\n",
    "\n",
    "# data loader\n",
    "train_loader = torch.utils.data.DataLoader(train, batch_size = BATCH_SIZE, shuffle = False)\n",
    "test_loader = torch.utils.data.DataLoader(test, batch_size = BATCH_SIZE, shuffle = False)"
   ]
  },
  {
   "cell_type": "code",
   "execution_count": 11,
   "metadata": {},
   "outputs": [
    {
     "name": "stdout",
     "output_type": "stream",
     "text": [
      "CNN(\n",
      "  (conv1): Conv2d(1, 32, kernel_size=(5, 5), stride=(1, 1))\n",
      "  (conv2): Conv2d(32, 32, kernel_size=(5, 5), stride=(1, 1))\n",
      "  (conv3): Conv2d(32, 64, kernel_size=(5, 5), stride=(1, 1))\n",
      "  (fc1): Linear(in_features=576, out_features=256, bias=True)\n",
      "  (fc2): Linear(in_features=256, out_features=10, bias=True)\n",
      ")\n",
      "torch.Size([32, 10])\n"
     ]
    }
   ],
   "source": [
    "class CNN(nn.Module):\n",
    "    def __init__(self):\n",
    "        super(CNN, self).__init__()\n",
    "        self.conv1 = nn.Conv2d(1, 32, kernel_size=5)\n",
    "        self.conv2 = nn.Conv2d(32, 32, kernel_size=5)\n",
    "        self.conv3 = nn.Conv2d(32,64, kernel_size=5)\n",
    "        self.fc1 = nn.Linear(3*3*64, 256)\n",
    "        self.fc2 = nn.Linear(256, 10)\n",
    "\n",
    "    def forward(self, x):\n",
    "        x = F.relu(self.conv1(x))\n",
    "        x = F.relu(F.max_pool2d(self.conv2(x), 2))\n",
    "        x = F.dropout(x, p=0.5, training=self.training)\n",
    "        x = F.relu(F.max_pool2d(self.conv3(x),2))\n",
    "        x = F.dropout(x, p=0.5, training=self.training)\n",
    "        x = x.view(-1,3*3*64 )\n",
    "        x = F.relu(self.fc1(x))\n",
    "        x = F.dropout(x, training=self.training)\n",
    "        x = self.fc2(x)\n",
    "        return F.log_softmax(x, dim=1)\n",
    " \n",
    "cnn = CNN()\n",
    "print(cnn)\n",
    "\n",
    "it = iter(train_loader)\n",
    "X_batch, y_batch = next(it)\n",
    "print(cnn.forward(X_batch).shape)"
   ]
  },
  {
   "cell_type": "code",
   "execution_count": 12,
   "metadata": {},
   "outputs": [
    {
     "name": "stdout",
     "output_type": "stream",
     "text": [
      "Epoch : 0 [0/35700 (0%)]\tLoss: 19.668039\t Accuracy:12.500%\n"
     ]
    },
    {
     "name": "stdout",
     "output_type": "stream",
     "text": [
      "Epoch : 0 [1600/35700 (4%)]\tLoss: 2.115996\t Accuracy:17.096%\n",
      "Epoch : 0 [3200/35700 (9%)]\tLoss: 1.117861\t Accuracy:34.623%\n",
      "Epoch : 0 [4800/35700 (13%)]\tLoss: 0.680578\t Accuracy:47.082%\n",
      "Epoch : 0 [6400/35700 (18%)]\tLoss: 0.330606\t Accuracy:54.804%\n",
      "Epoch : 0 [8000/35700 (22%)]\tLoss: 0.644366\t Accuracy:60.309%\n",
      "Epoch : 0 [9600/35700 (27%)]\tLoss: 0.549091\t Accuracy:63.808%\n",
      "Epoch : 0 [11200/35700 (31%)]\tLoss: 0.334360\t Accuracy:67.121%\n",
      "Epoch : 0 [12800/35700 (36%)]\tLoss: 0.453750\t Accuracy:69.475%\n",
      "Epoch : 0 [14400/35700 (40%)]\tLoss: 0.482723\t Accuracy:71.473%\n",
      "Epoch : 0 [16000/35700 (45%)]\tLoss: 0.810768\t Accuracy:73.098%\n",
      "Epoch : 0 [17600/35700 (49%)]\tLoss: 0.403822\t Accuracy:74.603%\n",
      "Epoch : 0 [19200/35700 (54%)]\tLoss: 0.592631\t Accuracy:75.806%\n",
      "Epoch : 0 [20800/35700 (58%)]\tLoss: 0.451842\t Accuracy:76.872%\n",
      "Epoch : 0 [22400/35700 (63%)]\tLoss: 0.369644\t Accuracy:77.849%\n",
      "Epoch : 0 [24000/35700 (67%)]\tLoss: 0.081164\t Accuracy:78.733%\n",
      "Epoch : 0 [25600/35700 (72%)]\tLoss: 0.221638\t Accuracy:79.561%\n",
      "Epoch : 0 [27200/35700 (76%)]\tLoss: 0.204601\t Accuracy:80.229%\n",
      "Epoch : 0 [28800/35700 (81%)]\tLoss: 0.172378\t Accuracy:80.882%\n",
      "Epoch : 0 [30400/35700 (85%)]\tLoss: 0.351542\t Accuracy:81.441%\n",
      "Epoch : 0 [32000/35700 (90%)]\tLoss: 0.356957\t Accuracy:81.927%\n",
      "Epoch : 0 [33600/35700 (94%)]\tLoss: 0.416697\t Accuracy:82.386%\n",
      "Epoch : 0 [35200/35700 (99%)]\tLoss: 0.472605\t Accuracy:82.800%\n",
      "Epoch : 1 [0/35700 (0%)]\tLoss: 0.087114\t Accuracy:96.875%\n",
      "Epoch : 1 [1600/35700 (4%)]\tLoss: 0.575491\t Accuracy:92.341%\n",
      "Epoch : 1 [3200/35700 (9%)]\tLoss: 0.137461\t Accuracy:93.038%\n",
      "Epoch : 1 [4800/35700 (13%)]\tLoss: 0.133918\t Accuracy:93.253%\n",
      "Epoch : 1 [6400/35700 (18%)]\tLoss: 0.226883\t Accuracy:93.019%\n",
      "Epoch : 1 [8000/35700 (22%)]\tLoss: 0.023575\t Accuracy:93.015%\n",
      "Epoch : 1 [9600/35700 (27%)]\tLoss: 0.125143\t Accuracy:92.836%\n",
      "Epoch : 1 [11200/35700 (31%)]\tLoss: 0.311390\t Accuracy:92.824%\n",
      "Epoch : 1 [12800/35700 (36%)]\tLoss: 0.187372\t Accuracy:92.721%\n",
      "Epoch : 1 [14400/35700 (40%)]\tLoss: 0.330992\t Accuracy:92.794%\n",
      "Epoch : 1 [16000/35700 (45%)]\tLoss: 0.549980\t Accuracy:92.802%\n",
      "Epoch : 1 [17600/35700 (49%)]\tLoss: 0.209395\t Accuracy:92.911%\n",
      "Epoch : 1 [19200/35700 (54%)]\tLoss: 0.290355\t Accuracy:92.897%\n",
      "Epoch : 1 [20800/35700 (58%)]\tLoss: 0.486363\t Accuracy:92.963%\n",
      "Epoch : 1 [22400/35700 (63%)]\tLoss: 0.214493\t Accuracy:93.068%\n",
      "Epoch : 1 [24000/35700 (67%)]\tLoss: 0.038708\t Accuracy:93.188%\n",
      "Epoch : 1 [25600/35700 (72%)]\tLoss: 0.024328\t Accuracy:93.262%\n",
      "Epoch : 1 [27200/35700 (76%)]\tLoss: 0.131477\t Accuracy:93.335%\n",
      "Epoch : 1 [28800/35700 (81%)]\tLoss: 0.394936\t Accuracy:93.448%\n",
      "Epoch : 1 [30400/35700 (85%)]\tLoss: 0.354090\t Accuracy:93.530%\n",
      "Epoch : 1 [32000/35700 (90%)]\tLoss: 0.601779\t Accuracy:93.531%\n",
      "Epoch : 1 [33600/35700 (94%)]\tLoss: 0.263331\t Accuracy:93.539%\n",
      "Epoch : 1 [35200/35700 (99%)]\tLoss: 0.510915\t Accuracy:93.580%\n",
      "Epoch : 2 [0/35700 (0%)]\tLoss: 0.048656\t Accuracy:100.000%\n",
      "Epoch : 2 [1600/35700 (4%)]\tLoss: 0.416562\t Accuracy:94.975%\n",
      "Epoch : 2 [3200/35700 (9%)]\tLoss: 0.097564\t Accuracy:94.462%\n",
      "Epoch : 2 [4800/35700 (13%)]\tLoss: 0.132645\t Accuracy:94.040%\n",
      "Epoch : 2 [6400/35700 (18%)]\tLoss: 0.133646\t Accuracy:94.061%\n",
      "Epoch : 2 [8000/35700 (22%)]\tLoss: 0.271520\t Accuracy:94.236%\n",
      "Epoch : 2 [9600/35700 (27%)]\tLoss: 0.202943\t Accuracy:94.342%\n",
      "Epoch : 2 [11200/35700 (31%)]\tLoss: 0.094177\t Accuracy:94.480%\n",
      "Epoch : 2 [12800/35700 (36%)]\tLoss: 0.318797\t Accuracy:94.498%\n",
      "Epoch : 2 [14400/35700 (40%)]\tLoss: 0.075000\t Accuracy:94.602%\n",
      "Epoch : 2 [16000/35700 (45%)]\tLoss: 0.582516\t Accuracy:94.679%\n",
      "Epoch : 2 [17600/35700 (49%)]\tLoss: 0.104470\t Accuracy:94.652%\n",
      "Epoch : 2 [19200/35700 (54%)]\tLoss: 0.308709\t Accuracy:94.546%\n",
      "Epoch : 2 [20800/35700 (58%)]\tLoss: 0.189900\t Accuracy:94.456%\n",
      "Epoch : 2 [22400/35700 (63%)]\tLoss: 0.234817\t Accuracy:94.530%\n",
      "Epoch : 2 [24000/35700 (67%)]\tLoss: 0.090114\t Accuracy:94.536%\n",
      "Epoch : 2 [25600/35700 (72%)]\tLoss: 0.062291\t Accuracy:94.573%\n",
      "Epoch : 2 [27200/35700 (76%)]\tLoss: 0.072896\t Accuracy:94.569%\n",
      "Epoch : 2 [28800/35700 (81%)]\tLoss: 0.324513\t Accuracy:94.600%\n",
      "Epoch : 2 [30400/35700 (85%)]\tLoss: 0.112812\t Accuracy:94.644%\n",
      "Epoch : 2 [32000/35700 (90%)]\tLoss: 0.426346\t Accuracy:94.637%\n",
      "Epoch : 2 [33600/35700 (94%)]\tLoss: 0.603747\t Accuracy:94.669%\n",
      "Epoch : 2 [35200/35700 (99%)]\tLoss: 0.278332\t Accuracy:94.675%\n",
      "Epoch : 3 [0/35700 (0%)]\tLoss: 0.115081\t Accuracy:96.875%\n",
      "Epoch : 3 [1600/35700 (4%)]\tLoss: 0.835708\t Accuracy:94.363%\n",
      "Epoch : 3 [3200/35700 (9%)]\tLoss: 0.211507\t Accuracy:94.740%\n",
      "Epoch : 3 [4800/35700 (13%)]\tLoss: 0.029013\t Accuracy:94.578%\n",
      "Epoch : 3 [6400/35700 (18%)]\tLoss: 0.014337\t Accuracy:94.621%\n",
      "Epoch : 3 [8000/35700 (22%)]\tLoss: 0.300171\t Accuracy:94.758%\n",
      "Epoch : 3 [9600/35700 (27%)]\tLoss: 0.078601\t Accuracy:94.934%\n",
      "Epoch : 3 [11200/35700 (31%)]\tLoss: 0.030932\t Accuracy:95.032%\n",
      "Epoch : 3 [12800/35700 (36%)]\tLoss: 0.197587\t Accuracy:95.090%\n",
      "Epoch : 3 [14400/35700 (40%)]\tLoss: 0.186534\t Accuracy:94.997%\n",
      "Epoch : 3 [16000/35700 (45%)]\tLoss: 0.542436\t Accuracy:95.072%\n",
      "Epoch : 3 [17600/35700 (49%)]\tLoss: 0.099010\t Accuracy:95.100%\n",
      "Epoch : 3 [19200/35700 (54%)]\tLoss: 0.400024\t Accuracy:95.034%\n",
      "Epoch : 3 [20800/35700 (58%)]\tLoss: 0.191642\t Accuracy:94.969%\n",
      "Epoch : 3 [22400/35700 (63%)]\tLoss: 0.918491\t Accuracy:94.976%\n",
      "Epoch : 3 [24000/35700 (67%)]\tLoss: 0.104884\t Accuracy:94.965%\n",
      "Epoch : 3 [25600/35700 (72%)]\tLoss: 0.134861\t Accuracy:94.948%\n",
      "Epoch : 3 [27200/35700 (76%)]\tLoss: 0.122417\t Accuracy:94.995%\n",
      "Epoch : 3 [28800/35700 (81%)]\tLoss: 0.144381\t Accuracy:95.096%\n",
      "Epoch : 3 [30400/35700 (85%)]\tLoss: 0.097803\t Accuracy:95.156%\n",
      "Epoch : 3 [32000/35700 (90%)]\tLoss: 0.358877\t Accuracy:95.180%\n",
      "Epoch : 3 [33600/35700 (94%)]\tLoss: 0.200185\t Accuracy:95.186%\n",
      "Epoch : 3 [35200/35700 (99%)]\tLoss: 0.408003\t Accuracy:95.129%\n",
      "Epoch : 4 [0/35700 (0%)]\tLoss: 0.225942\t Accuracy:90.625%\n",
      "Epoch : 4 [1600/35700 (4%)]\tLoss: 0.475417\t Accuracy:93.934%\n",
      "Epoch : 4 [3200/35700 (9%)]\tLoss: 0.159555\t Accuracy:94.152%\n",
      "Epoch : 4 [4800/35700 (13%)]\tLoss: 0.007312\t Accuracy:94.888%\n",
      "Epoch : 4 [6400/35700 (18%)]\tLoss: 0.016247\t Accuracy:94.869%\n",
      "Epoch : 4 [8000/35700 (22%)]\tLoss: 0.050866\t Accuracy:94.771%\n",
      "Epoch : 4 [9600/35700 (27%)]\tLoss: 0.081143\t Accuracy:94.871%\n",
      "Epoch : 4 [11200/35700 (31%)]\tLoss: 0.079240\t Accuracy:94.925%\n",
      "Epoch : 4 [12800/35700 (36%)]\tLoss: 0.161437\t Accuracy:94.989%\n",
      "Epoch : 4 [14400/35700 (40%)]\tLoss: 0.036240\t Accuracy:94.983%\n",
      "Epoch : 4 [16000/35700 (45%)]\tLoss: 0.391623\t Accuracy:95.029%\n",
      "Epoch : 4 [17600/35700 (49%)]\tLoss: 0.037177\t Accuracy:95.140%\n",
      "Epoch : 4 [19200/35700 (54%)]\tLoss: 0.416988\t Accuracy:95.138%\n",
      "Epoch : 4 [20800/35700 (58%)]\tLoss: 0.501928\t Accuracy:95.017%\n",
      "Epoch : 4 [22400/35700 (63%)]\tLoss: 0.188108\t Accuracy:95.074%\n",
      "Epoch : 4 [24000/35700 (67%)]\tLoss: 0.040274\t Accuracy:95.161%\n",
      "Epoch : 4 [25600/35700 (72%)]\tLoss: 0.174284\t Accuracy:95.213%\n",
      "Epoch : 4 [27200/35700 (76%)]\tLoss: 0.366534\t Accuracy:95.237%\n",
      "Epoch : 4 [28800/35700 (81%)]\tLoss: 0.149041\t Accuracy:95.307%\n",
      "Epoch : 4 [30400/35700 (85%)]\tLoss: 0.257474\t Accuracy:95.340%\n",
      "Epoch : 4 [32000/35700 (90%)]\tLoss: 0.501444\t Accuracy:95.358%\n",
      "Epoch : 4 [33600/35700 (94%)]\tLoss: 0.130781\t Accuracy:95.412%\n",
      "Epoch : 4 [35200/35700 (99%)]\tLoss: 0.376657\t Accuracy:95.408%\n"
     ]
    }
   ],
   "source": [
    "fit(cnn,train_loader)"
   ]
  },
  {
   "cell_type": "code",
   "execution_count": 13,
   "metadata": {},
   "outputs": [
    {
     "name": "stdout",
     "output_type": "stream",
     "text": [
      "9\n",
      "tensor(9)\n"
     ]
    },
    {
     "data": {
      "image/png": "[encoded data removed]",
      "text/plain": [
       "<Figure size 640x480 with 1 Axes>"
      ]
     },
     "metadata": {},
     "output_type": "display_data"
    }
   ],
   "source": [
    "cnn.eval()              # turn the model to evaluate mode\n",
    "index = 100\n",
    "torch_X_test = torch_X_test.view(-1,1,28,28).float().type(torch.LongTensor)\n",
    "image = torch_X_test[index].float().unsqueeze(0)\n",
    "true_label = y_test.to_numpy()[index]\n",
    "with torch.no_grad():     # does not calculate gradient\n",
    "    class_index = cnn(image).argmax()   #gets the prediction for the image's class\n",
    "plt.imshow(image.numpy().reshape(28,28,1), cmap='gray_r');\n",
    "print(true_label)\n",
    "print(class_index)"
   ]
  },
  {
   "cell_type": "markdown",
   "metadata": {},
   "source": [
    "Describe the performance of the MLP and CNN models? Performance can include training time, accuracy, etc.\n",
    "> Both models had comparable accuracy, though the MLP was slightly better. The MLP also trained much faster and was simpler to build. It seems like the MLP is better for simple datasets like MNIST. Maybe the CNN would have an advantage in more complicated image recognition."
   ]
  },
  {
   "cell_type": "markdown",
   "metadata": {},
   "source": [
    "Extra Credit: Describe the below code and the output"
   ]
  },
  {
   "cell_type": "code",
   "execution_count": 36,
   "metadata": {},
   "outputs": [
    {
     "name": "stdout",
     "output_type": "stream",
     "text": [
      "Init idx: 9\n",
      "7.054989814758301 -0.0009773960337042809 -7.055967330932617\n",
      "\n",
      "Job done, breaking\n",
      "tensor([-2.1515, -2.0412, -2.2795, -2.4808, -2.4366, -2.5038, -2.5282, -2.3861,\n",
      "        -2.0366, -2.3401])\n"
     ]
    },
    {
     "data": {
      "text/plain": [
       "8"
      ]
     },
     "execution_count": 36,
     "metadata": {},
     "output_type": "execute_result"
    },
    {
     "data": {
      "image/png": "[encoded data removed]",
      "text/plain": [
       "<Figure size 640x480 with 1 Axes>"
      ]
     },
     "metadata": {},
     "output_type": "display_data"
    }
   ],
   "source": [
    "model = cnn\n",
    "#torch_X_test = torch_X_test.view(-1,1,28,28).float().type(torch.LongTensor)\n",
    "x = torch_X_test[index].float().clone()\n",
    "x.requires_grad_(True)\n",
    "with torch.no_grad():\n",
    "    logits = model(x.unsqueeze(0)).squeeze()\n",
    "    IMX = torch.argmax(logits)\n",
    "print(\"Init idx:\",IMX.item())\n",
    "    \n",
    "lr=.01\n",
    "while True:\n",
    "    logits = model(x.unsqueeze(0)).squeeze()\n",
    "    \n",
    "    imx = torch.argmax(logits)\n",
    "    if imx!=IMX: \n",
    "        print(\"Job done, breaking\")\n",
    "        break\n",
    "    y = logits.clone()\n",
    "    y[imx] = -99\n",
    "    loss = logits.max() - y.max() \n",
    "    loss.backward()\n",
    "    \n",
    "    \n",
    "    x.data.sub_(lr*x.grad.data)\n",
    "    print(loss.item(),logits.max().item(), y.max().item() )\n",
    "    print()\n",
    "    x.grad.data.zero_()\n",
    "    x.data.sub_(x.data.min())\n",
    "    x.data.mul_(1/x.data.max())\n",
    "    \n",
    "with torch.no_grad():\n",
    "    print(model(x.unsqueeze(0)).squeeze())\n",
    "\n",
    "plt.imshow(x.detach().cpu().numpy().transpose(1,2,0).reshape(28,28), cmap='gray_r');torch.argmax(model(x.unsqueeze(0))).item()"
   ]
  },
  {
   "cell_type": "markdown",
   "metadata": {},
   "source": [
    "This code takes an image and gets the initial prediction for that image's class. Then it sets the class score for the current predicted value to a large, negative number. The gradient of the image with respect to the loss is calculated and the image is updated based on the data. Since the score for the correct class is low, the prediction moves away from the correct guess. The process is repeated until the prediction doesn't match the initial prediction, meaning that the altered image can fool the model.\n",
    "\n",
    "The output is the initial prediction, the loss, the largest class score, the largest class score after the scores are altered, a congratulatory message, the class scores of the altered image, the new class prediction, and the altered image itself. I changed the colormap of the image to show reversed grayscale, like in the examples above.\n",
    "\n",
    "It's pretty crazy to look at the image that tricked the model. Without analytical tools I can't see a difference between the nine that is correctly identified, and the altered image that fools the model."
   ]
  }
 ],
 "metadata": {
  "kernelspec": {
   "display_name": "Python 3 (ipykernel)",
   "language": "python",
   "name": "python3"
  },
  "language_info": {
   "codemirror_mode": {
    "name": "ipython",
    "version": 3
   },
   "file_extension": ".py",
   "mimetype": "text/x-python",
   "name": "python",
   "nbconvert_exporter": "python",
   "pygments_lexer": "ipython3",
   "version": "3.9.18"
  }
 },
 "nbformat": 4,
 "nbformat_minor": 4
}
